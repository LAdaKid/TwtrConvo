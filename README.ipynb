{
 "cells": [
  {
   "cell_type": "markdown",
   "metadata": {},
   "source": [
    "# TwtrConvo\n",
    "\n",
    "TwtrConvo is a python package that utilizes tweepy, pandas, TextBlob, and plotly to generate an overall sentiment of a company (given it's ticker symbol).  It does this by querying for tweets using tweepy and Twitter API keys, then organizing an the tweets using pandas DataFrame, then parsing the text and getting the sentiment using TextBlob and regex, and finally graphically displaying statistics using plotly.\n",
    "\n",
    "nbviewer link: https://nbviewer.jupyter.org/github/LAdaKid/TwtrConvo/blob/master/README.ipynb"
   ]
  },
  {
   "cell_type": "markdown",
   "metadata": {},
   "source": [
    "## Tweets module (tweets.py)\n",
    "\n",
    "The tweets module acts as a wrapper layer around tweepy with the main functions:\n",
    "\n",
    "    get_tweets\n",
    "    get_replies\n",
    "\n",
    "### Setup\n",
    "\n",
    "In order to use this module you will first need to setup your Twitter API keys.  If you don't have Twitter API keys, get them by following this guide:\n",
    "\n",
    "https://developer.twitter.com/en/docs/basics/authentication/guides/access-tokens.html\n",
    "\n",
    "Once you get your Twitter API keys you will need to add them to your environment with the variable names:\n",
    "\n",
    "    TWITTER_CONSUMER_KEY\n",
    "    TWITTER_CONSUMER_SECRET\n",
    "    TWITTER_ACCESS_TOKEN\n",
    "    TWITTER_ACCESS_TOKEN_SECRET\n",
    "\n",
    "This will allow the TwtrConvo \"tweets\" module access to the Twitter API in order to query for tweets."
   ]
  },
  {
   "cell_type": "markdown",
   "metadata": {
    "collapsed": true
   },
   "source": [
    "## TwtrConvo module (twtrconvo.py)\n",
    "\n",
    "The twtrconvo module houses the main logic of the package including the methods to build or load the dataset as well as the ranking function for ranking the tweets that were queried. Let's step through each portion of the main function and show each step in creating the statistical analysis of the company's overall Twitter sentiment.\n",
    "\n",
    "### Import package and load dataset"
   ]
  },
  {
   "cell_type": "code",
   "execution_count": 18,
   "metadata": {},
   "outputs": [
    {
     "name": "stdout",
     "output_type": "stream",
     "text": [
      "   index                   id         username  \\\n",
      "0     81  1123030520558960640          FedPorn   \n",
      "1     60  1123034536252727296         SamAntar   \n",
      "2     44  1123040250807422976   NetflixAndLamp   \n",
      "3     69  1123033053008240640  whistlerian1834   \n",
      "4     47  1123039259911389184         SamAntar   \n",
      "\n",
      "                                               tweet  \\\n",
      "0  If I buy a $TSLA do I get back a subsidy that ...   \n",
      "1  Crazy Eddie Memoirs: It wouldn’t change a thin...   \n",
      "2  My favorite software companies are the ones th...   \n",
      "3  $tsla 1/ Here's a summary of my intuition on #...   \n",
      "4  I don’t love or hate Elon Musk. For me, he’s s...   \n",
      "\n",
      "                                                text  favorites  retweets  \\\n",
      "0  If I buy a TSLA do I get back a subsidy that I...         24         4   \n",
      "1  Crazy Eddie Memoirs It wouldn t change a thing...         15         3   \n",
      "2  My favorite software companies are the ones th...         47         6   \n",
      "3  tsla 1 Here's a summary of my intuition on crc...         45         9   \n",
      "4  I don t love or hate Elon Musk For me he s sim...         15         2   \n",
      "\n",
      "   followers  following  net_influence  net_influencerank  retweetsrank  \\\n",
      "0      15312        582          14730              121.0         122.0   \n",
      "1      11290        804          10486              119.5         120.0   \n",
      "2       2006        363           1643              104.0         123.5   \n",
      "3       1581         80           1501              103.0         125.0   \n",
      "4      11290        804          10486              119.5         115.0   \n",
      "\n",
      "   favoritesrank   rank  \n",
      "0          122.5  365.5  \n",
      "1          116.5  356.0  \n",
      "2          125.0  352.5  \n",
      "3          124.0  352.0  \n",
      "4          116.5  351.0  \n"
     ]
    }
   ],
   "source": [
    "import os\n",
    "import TwtrConvo\n",
    "\n",
    "ticker = 'TSLA'\n",
    "\n",
    "# Generally you would use the \"build_dataset\" method to get tweets and replies, however with\n",
    "# the default of 500 tweets this generally maxes out you're hourly queries using the Twitter\n",
    "# API if the ticker has a lot of interaction on Twitter and if you call build_dataset multiple\n",
    "# times within an hour.  For this reason, you are also able to load previously built data and\n",
    "# use it to conduct statistical analysis.\n",
    "\n",
    "#tweet_df, reply_df = twtrconvo.build_dataset(ticker)\n",
    "\n",
    "tweet_df, reply_df = TwtrConvo.twtrconvo.load_dataset(\n",
    "    os.path.join(os.getcwd(), 'datasets', ticker)\n",
    ")\n",
    "\n",
    "print(tweet_df.head())"
   ]
  },
  {
   "cell_type": "markdown",
   "metadata": {},
   "source": [
    "### Top Five Tweets and their stats"
   ]
  },
  {
   "cell_type": "code",
   "execution_count": 19,
   "metadata": {},
   "outputs": [
    {
     "name": "stdout",
     "output_type": "stream",
     "text": [
      "FedPorn (24 Favorites, 4 Retweets, Net Influence 14730) : \n",
      " If I buy a $TSLA do I get back a subsidy that I subsidized? https://t.co/J21hrFjRba \n",
      "\n",
      "SamAntar (15 Favorites, 3 Retweets, Net Influence 10486) : \n",
      " Crazy Eddie Memoirs: It wouldn’t change a thing if Wall St. analysts had the opportunity to read 10-Qs before an earnings call because 99.9% of them are stupid. $TSLA $TSLAQ https://t.co/IyyZsC9Lbn \n",
      "\n",
      "NetflixAndLamp (47 Favorites, 6 Retweets, Net Influence 1643) : \n",
      " My favorite software companies are the ones that don't actually make software but have single digit gross margins and negative double digit net margins with massive capital intensity. Those are definitely my favorite software companies. They're the best. Bigly. No doubt. $TSLA https://t.co/QgftVO0eGI \n",
      "\n",
      "whistlerian1834 (45 Favorites, 9 Retweets, Net Influence 1501) : \n",
      " $tsla 1/ Here's a summary of my intuition on #crcl: I don't believe there's a singular disclosure that is prohibiting a raise. I don't believe the SEC is holding back a raise. Instead, consistent w/ Occam's razor, I believe the puzzle pieces fit as follows: In its first 4 years, \n",
      "\n",
      "SamAntar (15 Favorites, 2 Retweets, Net Influence 10486) : \n",
      " I don’t love or hate Elon Musk. For me, he’s simply a source of amusement. I think he’s a dumb crook whose problems are mostly self inflicted. And for the record, I’m not long or short Tesla. $TSLA $TSLAQ https://t.co/y5CIprmak4 \n",
      "\n"
     ]
    }
   ],
   "source": [
    "for i in range(5):\n",
    "    tweet = tweet_df.iloc[i]\n",
    "    print(\n",
    "        tweet['username'],\n",
    "        '({} Favorites, {} Retweets, Net Influence {}) : \\n'.format(\n",
    "            tweet['favorites'], tweet['retweets'], tweet['net_influence']),\n",
    "        tweet['tweet'], '\\n')"
   ]
  },
  {
   "cell_type": "markdown",
   "metadata": {
    "collapsed": true
   },
   "source": [
    "### Word Frequency\n",
    "\n",
    "The first thing we'd like to look at is word frequency within the top ranks tweets and their replies.  This could identify any patterns and could point out key words that will effect the current social sentiment that we observe.  We'll use TextBlob and our functions \"get_blob\" and \"get_word_count\" to do this then display the word count data using plotly pie charts"
   ]
  },
  {
   "cell_type": "code",
   "execution_count": 20,
   "metadata": {},
   "outputs": [
    {
     "data": {
      "text/html": [
       "<script type=\"text/javascript\">window.PlotlyConfig = {MathJaxConfig: 'local'};</script><script type=\"text/javascript\">if (window.MathJax) {MathJax.Hub.Config({SVG: {font: \"STIX-Web\"}});}</script><script>requirejs.config({paths: { 'plotly': ['https://cdn.plot.ly/plotly-latest.min']},});if(!window._Plotly) {require(['plotly'],function(plotly) {window._Plotly=plotly;});}</script>"
      ],
      "text/vnd.plotly.v1+html": [
       "<script type=\"text/javascript\">window.PlotlyConfig = {MathJaxConfig: 'local'};</script><script type=\"text/javascript\">if (window.MathJax) {MathJax.Hub.Config({SVG: {font: \"STIX-Web\"}});}</script><script>requirejs.config({paths: { 'plotly': ['https://cdn.plot.ly/plotly-latest.min']},});if(!window._Plotly) {require(['plotly'],function(plotly) {window._Plotly=plotly;});}</script>"
      ]
     },
     "metadata": {},
     "output_type": "display_data"
    },
    {
     "data": {
      "application/vnd.plotly.v1+json": {
       "config": {
        "linkText": "Export to plot.ly",
        "plotlyServerURL": "https://plot.ly",
        "showLink": true
       },
       "data": [
        {
         "domain": {
          "column": 0
         },
         "hole": 0.4,
         "labels": [
          "tslaq",
          "tesla",
          "'s",
          "short",
          "software",
          "earnings",
          "think",
          "1",
          "amp",
          "make"
         ],
         "name": "Tweets",
         "type": "pie",
         "uid": "f0b55b84-942a-43d5-89a3-60f4a69c413c",
         "values": [
          17,
          15,
          11,
          8,
          7,
          6,
          5,
          5,
          5,
          4
         ]
        },
        {
         "domain": {
          "column": 1
         },
         "hole": 0.4,
         "labels": [
          "n't",
          "people",
          "also",
          "'s",
          "going",
          "think",
          "better",
          "lot",
          "million",
          "correct"
         ],
         "name": "Replies",
         "type": "pie",
         "uid": "afa4eb22-3255-464e-be27-febf399f4b65",
         "values": [
          5,
          4,
          4,
          4,
          3,
          3,
          3,
          3,
          3,
          3
         ]
        }
       ],
       "layout": {
        "annotations": [
         {
          "font": {
           "size": 20
          },
          "showarrow": false,
          "text": "Tweets",
          "x": 0.2,
          "y": 0.5
         },
         {
          "font": {
           "size": 20
          },
          "showarrow": false,
          "text": "Replies",
          "x": 0.8,
          "y": 0.5
         }
        ],
        "grid": {
         "columns": 2,
         "rows": 1
        },
        "title": "Word Frequency"
       }
      },
      "text/html": [
       "<div id=\"28a1aca0-2600-4647-a595-cedd4f609448\" style=\"height: 525px; width: 100%;\" class=\"plotly-graph-div\"></div><script type=\"text/javascript\">require([\"plotly\"], function(Plotly) { window.PLOTLYENV=window.PLOTLYENV || {};window.PLOTLYENV.BASE_URL=\"https://plot.ly\";Plotly.newPlot(\"28a1aca0-2600-4647-a595-cedd4f609448\", [{\"domain\": {\"column\": 0}, \"hole\": 0.4, \"labels\": [\"tslaq\", \"tesla\", \"'s\", \"short\", \"software\", \"earnings\", \"think\", \"1\", \"amp\", \"make\"], \"name\": \"Tweets\", \"values\": [17, 15, 11, 8, 7, 6, 5, 5, 5, 4], \"type\": \"pie\", \"uid\": \"785398ac-bb2e-4a3f-87f1-e9bff25d1008\"}, {\"domain\": {\"column\": 1}, \"hole\": 0.4, \"labels\": [\"n't\", \"people\", \"also\", \"'s\", \"going\", \"think\", \"better\", \"lot\", \"million\", \"correct\"], \"name\": \"Replies\", \"values\": [5, 4, 4, 4, 3, 3, 3, 3, 3, 3], \"type\": \"pie\", \"uid\": \"6f4c7787-926e-4978-bcce-12290e403735\"}], {\"annotations\": [{\"font\": {\"size\": 20}, \"showarrow\": false, \"text\": \"Tweets\", \"x\": 0.2, \"y\": 0.5}, {\"font\": {\"size\": 20}, \"showarrow\": false, \"text\": \"Replies\", \"x\": 0.8, \"y\": 0.5}], \"grid\": {\"columns\": 2, \"rows\": 1}, \"title\": \"Word Frequency\"}, {\"showLink\": true, \"linkText\": \"Export to plot.ly\", \"plotlyServerURL\": \"https://plot.ly\"})});</script><script type=\"text/javascript\">window.addEventListener(\"resize\", function(){window._Plotly.Plots.resize(document.getElementById(\"28a1aca0-2600-4647-a595-cedd4f609448\"));});</script>"
      ],
      "text/vnd.plotly.v1+html": [
       "<div id=\"28a1aca0-2600-4647-a595-cedd4f609448\" style=\"height: 525px; width: 100%;\" class=\"plotly-graph-div\"></div><script type=\"text/javascript\">require([\"plotly\"], function(Plotly) { window.PLOTLYENV=window.PLOTLYENV || {};window.PLOTLYENV.BASE_URL=\"https://plot.ly\";Plotly.newPlot(\"28a1aca0-2600-4647-a595-cedd4f609448\", [{\"domain\": {\"column\": 0}, \"hole\": 0.4, \"labels\": [\"tslaq\", \"tesla\", \"'s\", \"short\", \"software\", \"earnings\", \"think\", \"1\", \"amp\", \"make\"], \"name\": \"Tweets\", \"values\": [17, 15, 11, 8, 7, 6, 5, 5, 5, 4], \"type\": \"pie\", \"uid\": \"785398ac-bb2e-4a3f-87f1-e9bff25d1008\"}, {\"domain\": {\"column\": 1}, \"hole\": 0.4, \"labels\": [\"n't\", \"people\", \"also\", \"'s\", \"going\", \"think\", \"better\", \"lot\", \"million\", \"correct\"], \"name\": \"Replies\", \"values\": [5, 4, 4, 4, 3, 3, 3, 3, 3, 3], \"type\": \"pie\", \"uid\": \"6f4c7787-926e-4978-bcce-12290e403735\"}], {\"annotations\": [{\"font\": {\"size\": 20}, \"showarrow\": false, \"text\": \"Tweets\", \"x\": 0.2, \"y\": 0.5}, {\"font\": {\"size\": 20}, \"showarrow\": false, \"text\": \"Replies\", \"x\": 0.8, \"y\": 0.5}], \"grid\": {\"columns\": 2, \"rows\": 1}, \"title\": \"Word Frequency\"}, {\"showLink\": true, \"linkText\": \"Export to plot.ly\", \"plotlyServerURL\": \"https://plot.ly\"})});</script><script type=\"text/javascript\">window.addEventListener(\"resize\", function(){window._Plotly.Plots.resize(document.getElementById(\"28a1aca0-2600-4647-a595-cedd4f609448\"));});</script>"
      ]
     },
     "metadata": {},
     "output_type": "display_data"
    }
   ],
   "source": [
    "from plotly.offline import download_plotlyjs, init_notebook_mode, plot, iplot\n",
    "init_notebook_mode(connected=True)\n",
    "\n",
    "# Get text blobs and word count\n",
    "tweet_blob = TwtrConvo.twtrconvo.get_blob(ticker, tweet_df)\n",
    "tweet_word_count = TwtrConvo.twtrconvo.get_word_count(tweet_blob)\n",
    "reply_blob = TwtrConvo.twtrconvo.get_blob(ticker, reply_df)\n",
    "reply_word_count = TwtrConvo.twtrconvo.get_word_count(reply_blob)\n",
    "\n",
    "# The pie chart will default to the top ten words for each word count unless n is\n",
    "# specified to be different\n",
    "fig = TwtrConvo.plots.create_pie_chart(tweet_word_count, reply_word_count)\n",
    "\n",
    "iplot(fig)"
   ]
  },
  {
   "cell_type": "markdown",
   "metadata": {
    "collapsed": true
   },
   "source": [
    "### Sentiment Gauge\n",
    "\n",
    "Using TextBlob we will get a general sentiment of all the tweets and display it on a guage using plotly."
   ]
  },
  {
   "cell_type": "code",
   "execution_count": 21,
   "metadata": {},
   "outputs": [
    {
     "data": {
      "application/vnd.plotly.v1+json": {
       "config": {
        "linkText": "Export to plot.ly",
        "plotlyServerURL": "https://plot.ly",
        "showLink": true
       },
       "data": [
        {
         "direction": "clockwise",
         "domain": {
          "x": [
           0,
           0.48
          ]
         },
         "hole": 0.4,
         "hoverinfo": "none",
         "labels": [
          "-",
          "-1",
          "0",
          "1"
         ],
         "marker": {
          "colors": [
           "rgb(255, 255, 255)",
           "rgb(255, 255, 255)",
           "rgb(255, 255, 255)",
           "rgb(255, 255, 255)"
          ],
          "line": {
           "width": 0
          }
         },
         "name": "Gauge",
         "rotation": 108,
         "showlegend": false,
         "textinfo": "label",
         "textposition": "outside",
         "type": "pie",
         "uid": "d6bcedac-21b2-4dca-877c-debf5a6adb0d",
         "values": [
          40,
          20,
          20,
          20
         ]
        },
        {
         "direction": "clockwise",
         "domain": {
          "x": [
           0,
           0.48
          ]
         },
         "hole": 0.3,
         "hoverinfo": "none",
         "labels": [
          "Polarity",
          "Negative",
          "Neutral",
          "Positive"
         ],
         "marker": {
          "colors": [
           "rgb(255, 255, 255)",
           "rgb(255, 102, 102)",
           "rgb(192, 192, 192)",
           "rgb(178, 255, 102)"
          ]
         },
         "name": "Gauge",
         "rotation": 90,
         "showlegend": false,
         "textinfo": "label",
         "textposition": "inside",
         "type": "pie",
         "uid": "dfd975fd-d80c-4763-a8b1-086ceb77704f",
         "values": [
          50,
          16.666666666666668,
          16.666666666666668,
          16.666666666666668
         ]
        }
       ],
       "layout": {
        "annotations": [
         {
          "showarrow": false,
          "text": "0.127",
          "x": 0.23,
          "xref": "paper",
          "y": 0.45,
          "yref": "paper"
         }
        ],
        "shapes": [
         {
          "fillcolor": "rgba(44, 160, 101, 0.5)",
          "line": {
           "width": 0.5
          },
          "path": "M 0.23507830917069134 0.5008814529940384 L 0.2664435898211511 0.6476507248792593 L 0.24492169082930865 0.49911854700596164 Z",
          "type": "path",
          "xref": "paper",
          "yref": "paper"
         }
        ],
        "xaxis": {
         "showgrid": false,
         "showticklabels": false,
         "zeroline": false
        },
        "yaxis": {
         "showgrid": false,
         "showticklabels": false,
         "zeroline": false
        }
       }
      },
      "text/html": [
       "<div id=\"456b4722-a197-4b96-b395-f3f810f9cc7e\" style=\"height: 525px; width: 100%;\" class=\"plotly-graph-div\"></div><script type=\"text/javascript\">require([\"plotly\"], function(Plotly) { window.PLOTLYENV=window.PLOTLYENV || {};window.PLOTLYENV.BASE_URL=\"https://plot.ly\";Plotly.newPlot(\"456b4722-a197-4b96-b395-f3f810f9cc7e\", [{\"direction\": \"clockwise\", \"domain\": {\"x\": [0, 0.48]}, \"hole\": 0.4, \"hoverinfo\": \"none\", \"labels\": [\"-\", \"-1\", \"0\", \"1\"], \"marker\": {\"colors\": [\"rgb(255, 255, 255)\", \"rgb(255, 255, 255)\", \"rgb(255, 255, 255)\", \"rgb(255, 255, 255)\"], \"line\": {\"width\": 0}}, \"name\": \"Gauge\", \"rotation\": 108, \"showlegend\": false, \"textinfo\": \"label\", \"textposition\": \"outside\", \"values\": [40, 20, 20, 20], \"type\": \"pie\", \"uid\": \"2c1d7c8e-a1c6-4ea0-93d2-8d81cf22d8e6\"}, {\"direction\": \"clockwise\", \"domain\": {\"x\": [0, 0.48]}, \"hole\": 0.3, \"hoverinfo\": \"none\", \"labels\": [\"Polarity\", \"Negative\", \"Neutral\", \"Positive\"], \"marker\": {\"colors\": [\"rgb(255, 255, 255)\", \"rgb(255, 102, 102)\", \"rgb(192, 192, 192)\", \"rgb(178, 255, 102)\"]}, \"name\": \"Gauge\", \"rotation\": 90, \"showlegend\": false, \"textinfo\": \"label\", \"textposition\": \"inside\", \"values\": [50, 16.666666666666668, 16.666666666666668, 16.666666666666668], \"type\": \"pie\", \"uid\": \"744f0402-ed60-4595-9b7f-aa5dac825717\"}], {\"annotations\": [{\"showarrow\": false, \"text\": \"0.127\", \"x\": 0.23, \"xref\": \"paper\", \"y\": 0.45, \"yref\": \"paper\"}], \"shapes\": [{\"fillcolor\": \"rgba(44, 160, 101, 0.5)\", \"line\": {\"width\": 0.5}, \"path\": \"M 0.23507830917069134 0.5008814529940384 L 0.2664435898211511 0.6476507248792593 L 0.24492169082930865 0.49911854700596164 Z\", \"type\": \"path\", \"xref\": \"paper\", \"yref\": \"paper\"}], \"xaxis\": {\"showgrid\": false, \"showticklabels\": false, \"zeroline\": false}, \"yaxis\": {\"showgrid\": false, \"showticklabels\": false, \"zeroline\": false}}, {\"showLink\": true, \"linkText\": \"Export to plot.ly\", \"plotlyServerURL\": \"https://plot.ly\"})});</script><script type=\"text/javascript\">window.addEventListener(\"resize\", function(){window._Plotly.Plots.resize(document.getElementById(\"456b4722-a197-4b96-b395-f3f810f9cc7e\"));});</script>"
      ],
      "text/vnd.plotly.v1+html": [
       "<div id=\"456b4722-a197-4b96-b395-f3f810f9cc7e\" style=\"height: 525px; width: 100%;\" class=\"plotly-graph-div\"></div><script type=\"text/javascript\">require([\"plotly\"], function(Plotly) { window.PLOTLYENV=window.PLOTLYENV || {};window.PLOTLYENV.BASE_URL=\"https://plot.ly\";Plotly.newPlot(\"456b4722-a197-4b96-b395-f3f810f9cc7e\", [{\"direction\": \"clockwise\", \"domain\": {\"x\": [0, 0.48]}, \"hole\": 0.4, \"hoverinfo\": \"none\", \"labels\": [\"-\", \"-1\", \"0\", \"1\"], \"marker\": {\"colors\": [\"rgb(255, 255, 255)\", \"rgb(255, 255, 255)\", \"rgb(255, 255, 255)\", \"rgb(255, 255, 255)\"], \"line\": {\"width\": 0}}, \"name\": \"Gauge\", \"rotation\": 108, \"showlegend\": false, \"textinfo\": \"label\", \"textposition\": \"outside\", \"values\": [40, 20, 20, 20], \"type\": \"pie\", \"uid\": \"2c1d7c8e-a1c6-4ea0-93d2-8d81cf22d8e6\"}, {\"direction\": \"clockwise\", \"domain\": {\"x\": [0, 0.48]}, \"hole\": 0.3, \"hoverinfo\": \"none\", \"labels\": [\"Polarity\", \"Negative\", \"Neutral\", \"Positive\"], \"marker\": {\"colors\": [\"rgb(255, 255, 255)\", \"rgb(255, 102, 102)\", \"rgb(192, 192, 192)\", \"rgb(178, 255, 102)\"]}, \"name\": \"Gauge\", \"rotation\": 90, \"showlegend\": false, \"textinfo\": \"label\", \"textposition\": \"inside\", \"values\": [50, 16.666666666666668, 16.666666666666668, 16.666666666666668], \"type\": \"pie\", \"uid\": \"744f0402-ed60-4595-9b7f-aa5dac825717\"}], {\"annotations\": [{\"showarrow\": false, \"text\": \"0.127\", \"x\": 0.23, \"xref\": \"paper\", \"y\": 0.45, \"yref\": \"paper\"}], \"shapes\": [{\"fillcolor\": \"rgba(44, 160, 101, 0.5)\", \"line\": {\"width\": 0.5}, \"path\": \"M 0.23507830917069134 0.5008814529940384 L 0.2664435898211511 0.6476507248792593 L 0.24492169082930865 0.49911854700596164 Z\", \"type\": \"path\", \"xref\": \"paper\", \"yref\": \"paper\"}], \"xaxis\": {\"showgrid\": false, \"showticklabels\": false, \"zeroline\": false}, \"yaxis\": {\"showgrid\": false, \"showticklabels\": false, \"zeroline\": false}}, {\"showLink\": true, \"linkText\": \"Export to plot.ly\", \"plotlyServerURL\": \"https://plot.ly\"})});</script><script type=\"text/javascript\">window.addEventListener(\"resize\", function(){window._Plotly.Plots.resize(document.getElementById(\"456b4722-a197-4b96-b395-f3f810f9cc7e\"));});</script>"
      ]
     },
     "metadata": {},
     "output_type": "display_data"
    }
   ],
   "source": [
    "fig = TwtrConvo.plots.create_sentiment_gauge(tweet_blob)\n",
    "iplot(fig)"
   ]
  },
  {
   "cell_type": "markdown",
   "metadata": {
    "collapsed": true
   },
   "source": [
    "### Boxplots\n",
    "\n",
    "Let's take a look at spread of retweets and favorites from the top ranked tweets."
   ]
  },
  {
   "cell_type": "code",
   "execution_count": 25,
   "metadata": {},
   "outputs": [
    {
     "data": {
      "application/vnd.plotly.v1+json": {
       "config": {
        "linkText": "Export to plot.ly",
        "plotlyServerURL": "https://plot.ly",
        "showLink": true
       },
       "data": [
        {
         "boxpoints": "all",
         "fillcolor": "rgba(93, 164, 214, 0.5)",
         "jitter": 0.5,
         "line": {
          "width": 1
         },
         "marker": {
          "size": 2
         },
         "name": "favorites",
         "type": "box",
         "uid": "0061d2bf-3efc-4560-9d5e-34f6996e6880",
         "whiskerwidth": 0.2,
         "y": [
          24,
          15,
          47,
          45,
          15,
          15,
          20,
          24,
          6,
          11,
          18,
          6,
          22,
          4,
          7,
          12,
          5,
          7,
          6,
          5,
          15,
          4,
          5,
          3,
          4,
          9,
          4,
          6,
          13,
          5,
          2,
          5,
          2,
          3,
          2,
          1,
          5,
          1,
          6,
          5,
          4,
          2,
          1,
          1,
          2,
          2,
          0,
          2,
          1,
          0
         ]
        },
        {
         "boxpoints": "all",
         "fillcolor": "rgba(255, 65, 54, 0.5)",
         "jitter": 0.5,
         "line": {
          "width": 1
         },
         "marker": {
          "size": 2
         },
         "name": "retweets",
         "type": "box",
         "uid": "4908b13a-686d-4994-a13a-d987f51c3e41",
         "whiskerwidth": 0.2,
         "y": [
          4,
          3,
          6,
          9,
          2,
          1,
          2,
          3,
          2,
          3,
          6,
          1,
          1,
          1,
          2,
          1,
          2,
          2,
          1,
          0,
          0,
          1,
          0,
          0,
          0,
          0,
          1,
          0,
          2,
          0,
          0,
          0,
          1,
          0,
          0,
          0,
          0,
          0,
          0,
          0,
          0,
          0,
          0,
          0,
          0,
          0,
          0,
          0,
          0,
          1
         ]
        }
       ],
       "layout": {
        "margin": {
         "b": 80,
         "l": 40,
         "r": 30,
         "t": 100
        },
        "paper_bgcolor": "rgb(243, 243, 243)",
        "plot_bgcolor": "rgb(243, 243, 243)",
        "showlegend": false,
        "title": "Retweets and Favorites",
        "yaxis": {
         "autorange": true,
         "dtick": 5,
         "gridcolor": "rgb(255, 255, 255)",
         "gridwidth": 1,
         "showgrid": true,
         "zeroline": true,
         "zerolinecolor": "rgb(255, 255, 255)",
         "zerolinewidth": 2
        }
       }
      },
      "text/html": [
       "<div id=\"b289d791-1c5b-4d0c-992a-652cc2ebcf48\" style=\"height: 525px; width: 100%;\" class=\"plotly-graph-div\"></div><script type=\"text/javascript\">require([\"plotly\"], function(Plotly) { window.PLOTLYENV=window.PLOTLYENV || {};window.PLOTLYENV.BASE_URL=\"https://plot.ly\";Plotly.newPlot(\"b289d791-1c5b-4d0c-992a-652cc2ebcf48\", [{\"boxpoints\": \"all\", \"fillcolor\": \"rgba(93, 164, 214, 0.5)\", \"jitter\": 0.5, \"line\": {\"width\": 1}, \"marker\": {\"size\": 2}, \"name\": \"favorites\", \"whiskerwidth\": 0.2, \"y\": [24, 15, 47, 45, 15, 15, 20, 24, 6, 11, 18, 6, 22, 4, 7, 12, 5, 7, 6, 5, 15, 4, 5, 3, 4, 9, 4, 6, 13, 5, 2, 5, 2, 3, 2, 1, 5, 1, 6, 5, 4, 2, 1, 1, 2, 2, 0, 2, 1, 0], \"type\": \"box\", \"uid\": \"f44db048-decd-4d94-be04-c404f5026d6b\"}, {\"boxpoints\": \"all\", \"fillcolor\": \"rgba(255, 65, 54, 0.5)\", \"jitter\": 0.5, \"line\": {\"width\": 1}, \"marker\": {\"size\": 2}, \"name\": \"retweets\", \"whiskerwidth\": 0.2, \"y\": [4, 3, 6, 9, 2, 1, 2, 3, 2, 3, 6, 1, 1, 1, 2, 1, 2, 2, 1, 0, 0, 1, 0, 0, 0, 0, 1, 0, 2, 0, 0, 0, 1, 0, 0, 0, 0, 0, 0, 0, 0, 0, 0, 0, 0, 0, 0, 0, 0, 1], \"type\": \"box\", \"uid\": \"21872761-9a4d-4670-b4bb-ae116f73bd32\"}], {\"margin\": {\"b\": 80, \"l\": 40, \"r\": 30, \"t\": 100}, \"paper_bgcolor\": \"rgb(243, 243, 243)\", \"plot_bgcolor\": \"rgb(243, 243, 243)\", \"showlegend\": false, \"title\": \"Retweets and Favorites\", \"yaxis\": {\"autorange\": true, \"dtick\": 5, \"gridcolor\": \"rgb(255, 255, 255)\", \"gridwidth\": 1, \"showgrid\": true, \"zeroline\": true, \"zerolinecolor\": \"rgb(255, 255, 255)\", \"zerolinewidth\": 2}}, {\"showLink\": true, \"linkText\": \"Export to plot.ly\", \"plotlyServerURL\": \"https://plot.ly\"})});</script><script type=\"text/javascript\">window.addEventListener(\"resize\", function(){window._Plotly.Plots.resize(document.getElementById(\"b289d791-1c5b-4d0c-992a-652cc2ebcf48\"));});</script>"
      ],
      "text/vnd.plotly.v1+html": [
       "<div id=\"b289d791-1c5b-4d0c-992a-652cc2ebcf48\" style=\"height: 525px; width: 100%;\" class=\"plotly-graph-div\"></div><script type=\"text/javascript\">require([\"plotly\"], function(Plotly) { window.PLOTLYENV=window.PLOTLYENV || {};window.PLOTLYENV.BASE_URL=\"https://plot.ly\";Plotly.newPlot(\"b289d791-1c5b-4d0c-992a-652cc2ebcf48\", [{\"boxpoints\": \"all\", \"fillcolor\": \"rgba(93, 164, 214, 0.5)\", \"jitter\": 0.5, \"line\": {\"width\": 1}, \"marker\": {\"size\": 2}, \"name\": \"favorites\", \"whiskerwidth\": 0.2, \"y\": [24, 15, 47, 45, 15, 15, 20, 24, 6, 11, 18, 6, 22, 4, 7, 12, 5, 7, 6, 5, 15, 4, 5, 3, 4, 9, 4, 6, 13, 5, 2, 5, 2, 3, 2, 1, 5, 1, 6, 5, 4, 2, 1, 1, 2, 2, 0, 2, 1, 0], \"type\": \"box\", \"uid\": \"f44db048-decd-4d94-be04-c404f5026d6b\"}, {\"boxpoints\": \"all\", \"fillcolor\": \"rgba(255, 65, 54, 0.5)\", \"jitter\": 0.5, \"line\": {\"width\": 1}, \"marker\": {\"size\": 2}, \"name\": \"retweets\", \"whiskerwidth\": 0.2, \"y\": [4, 3, 6, 9, 2, 1, 2, 3, 2, 3, 6, 1, 1, 1, 2, 1, 2, 2, 1, 0, 0, 1, 0, 0, 0, 0, 1, 0, 2, 0, 0, 0, 1, 0, 0, 0, 0, 0, 0, 0, 0, 0, 0, 0, 0, 0, 0, 0, 0, 1], \"type\": \"box\", \"uid\": \"21872761-9a4d-4670-b4bb-ae116f73bd32\"}], {\"margin\": {\"b\": 80, \"l\": 40, \"r\": 30, \"t\": 100}, \"paper_bgcolor\": \"rgb(243, 243, 243)\", \"plot_bgcolor\": \"rgb(243, 243, 243)\", \"showlegend\": false, \"title\": \"Retweets and Favorites\", \"yaxis\": {\"autorange\": true, \"dtick\": 5, \"gridcolor\": \"rgb(255, 255, 255)\", \"gridwidth\": 1, \"showgrid\": true, \"zeroline\": true, \"zerolinecolor\": \"rgb(255, 255, 255)\", \"zerolinewidth\": 2}}, {\"showLink\": true, \"linkText\": \"Export to plot.ly\", \"plotlyServerURL\": \"https://plot.ly\"})});</script><script type=\"text/javascript\">window.addEventListener(\"resize\", function(){window._Plotly.Plots.resize(document.getElementById(\"b289d791-1c5b-4d0c-992a-652cc2ebcf48\"));});</script>"
      ]
     },
     "metadata": {},
     "output_type": "display_data"
    }
   ],
   "source": [
    "fig = TwtrConvo.plots.create_boxplot(tweet_df)\n",
    "iplot(fig)"
   ]
  },
  {
   "cell_type": "code",
   "execution_count": null,
   "metadata": {
    "collapsed": true
   },
   "outputs": [],
   "source": []
  }
 ],
 "metadata": {
  "kernelspec": {
   "display_name": "Python 3",
   "language": "python",
   "name": "python3"
  },
  "language_info": {
   "codemirror_mode": {
    "name": "ipython",
    "version": 3
   },
   "file_extension": ".py",
   "mimetype": "text/x-python",
   "name": "python",
   "nbconvert_exporter": "python",
   "pygments_lexer": "ipython3",
   "version": "3.6.2"
  }
 },
 "nbformat": 4,
 "nbformat_minor": 2
}
